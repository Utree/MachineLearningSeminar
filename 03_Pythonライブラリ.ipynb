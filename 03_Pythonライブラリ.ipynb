{
  "nbformat": 4,
  "nbformat_minor": 0,
  "metadata": {
    "colab": {
      "name": "03_Pythonライブラリ.ipynb",
      "version": "0.3.2",
      "provenance": [],
      "collapsed_sections": [],
      "include_colab_link": true
    },
    "kernelspec": {
      "name": "python3",
      "display_name": "Python 3"
    }
  },
  "cells": [
    {
      "cell_type": "markdown",
      "metadata": {
        "id": "view-in-github",
        "colab_type": "text"
      },
      "source": [
        "<a href=\"https://colab.research.google.com/github/Utree/MachineLearningSeminar/blob/master/03_Python%E3%83%A9%E3%82%A4%E3%83%96%E3%83%A9%E3%83%AA.ipynb\" target=\"_parent\"><img src=\"https://colab.research.google.com/assets/colab-badge.svg\" alt=\"Open In Colab\"/></a>"
      ]
    },
    {
      "cell_type": "markdown",
      "metadata": {
        "id": "Ewg3uVn-0YgA",
        "colab_type": "text"
      },
      "source": [
        "# Pythonライブラリ"
      ]
    },
    {
      "cell_type": "markdown",
      "metadata": {
        "id": "h-M69bSZ0bF9",
        "colab_type": "text"
      },
      "source": [
        "## Numpy\n",
        "\n",
        "Numpy(ナンパイ)は配列処理を高速に行うためのライブラリである。\n",
        "\n",
        "Numpy配列は数学で言うところの行列やテンソルのようなもので、C言語で実装されているので、型システムが存在し、Pythonのリストよりも高速に演算することが可能である。\n",
        "\n",
        "統計学的な演算や数学的な演算機能も実装されている。\n",
        "\n",
        "\n"
      ]
    },
    {
      "cell_type": "markdown",
      "metadata": {
        "id": "4CD6EOKH45GW",
        "colab_type": "text"
      },
      "source": [
        "## pandas\n",
        "pandas(パンダス)はデータを解析、変換するためのライブラリである。\n",
        "\n",
        "pandasにはテーブルデータを扱うためのデータ構造(Dataframe)が実装されており、SQLのような処理が可能である。"
      ]
    },
    {
      "cell_type": "markdown",
      "metadata": {
        "id": "7Dmec_R10gar",
        "colab_type": "text"
      },
      "source": [
        "## Matplotlib\n",
        "Matplotlib(マットプロットリブ)はデータを可視化するライブラリである。\n",
        "\n",
        "グラフの描画やデータの可視化が簡単に行える\n",
        "\n",
        "### Seaborn\n",
        "作図、プロット用のライブラリ。Matplotlibのラッパで、きれいなグラフが作れるらしい\n",
        "\n",
        "### pandas-profiling\n",
        "探索データ分析(EDA): データの全体像を知るのに便利なツール"
      ]
    },
    {
      "cell_type": "markdown",
      "metadata": {
        "id": "ts2OlaNg4pZ3",
        "colab_type": "text"
      },
      "source": [
        "## scikit-learn\n",
        "scikit-learn(サイキットラーン)は機械学習用のライブラリである。\n",
        "\n",
        "NumpyとScipy上に構築されており、分類、回帰、クラスタリング、次元削減などが実装されている。"
      ]
    },
    {
      "cell_type": "markdown",
      "metadata": {
        "id": "GACyENxq5dEc",
        "colab_type": "text"
      },
      "source": [
        "## Tensorflow\n",
        "Tensorflow(テンサーフロー/テンソルフロー)はGoogleが開発した機械学習用のライブラリである。\n",
        "\n",
        "機械学習の中でも、ニューラルネットワークに特化している"
      ]
    },
    {
      "cell_type": "markdown",
      "metadata": {
        "id": "hyRfVz145fi8",
        "colab_type": "text"
      },
      "source": [
        "## Keras\n",
        "Keras(ケラス)はGoogleが開発した深層学習用のライブラリである。\n",
        "\n",
        "TheanoとTensorflowがベースになっており、複雑な学習モデルを簡単に実装することができる"
      ]
    },
    {
      "cell_type": "markdown",
      "metadata": {
        "id": "LpuPwJdsC8VN",
        "colab_type": "text"
      },
      "source": [
        "## その他の機械学習系ライブラリ\n",
        "あまり詳しくは知らない、使ったことがないライブラリ\n",
        "### Scipy\n",
        "Scipy(サイパイ)は数学計算用のライブラリである。\n",
        "Numpyでも数学的な演算は可能だが、ScipyにはMatlab相当の計算関数が実装されている。\n",
        "### Chainer\n",
        "国産の機械学習用ライブラリで、自然言語処理系を得意としている\n",
        "### Caffe\n",
        "機械学習用ライブラリで、画像処理系を得意としている\n",
        "### Theano\n",
        "ディープラーニングライブラリの祖父と呼ばれているらしい"
      ]
    },
    {
      "cell_type": "markdown",
      "metadata": {
        "id": "koL2S2hKEQos",
        "colab_type": "text"
      },
      "source": [
        "# Numpy配列\n",
        "\n",
        "Numpy配列を使ってみよう"
      ]
    },
    {
      "cell_type": "code",
      "metadata": {
        "id": "aSjTC6Ri5X5w",
        "colab_type": "code",
        "colab": {}
      },
      "source": [
        "# インポート\n",
        "import numpy as np"
      ],
      "execution_count": 0,
      "outputs": []
    },
    {
      "cell_type": "markdown",
      "metadata": {
        "id": "cxPHp_tYL2Yk",
        "colab_type": "text"
      },
      "source": [
        "![Numpy配列](https://camo.qiitausercontent.com/6eaf0deabf6ad20f909be061b37c9c08cdba8bd5/68747470733a2f2f64326d787565667165616137736a2e636c6f756466726f6e742e6e65742f735f453630383837363430353036333945303338424242393833423836343033374144443231423430363141363630463332304638413941363146453035333645465f313534353839313231373333335f2b323031382d31322d32372b31352e31312e33332e706e67)"
      ]
    },
    {
      "cell_type": "code",
      "metadata": {
        "id": "zOl4PvT80Pha",
        "colab_type": "code",
        "colab": {}
      },
      "source": [
        "# Numpy配列をつくる\n",
        "x = np.array([3, 1, 7, 2], dtype=np.float)\n",
        "\n",
        "print(x)"
      ],
      "execution_count": 0,
      "outputs": []
    },
    {
      "cell_type": "markdown",
      "metadata": {
        "id": "P9Ahz-bcMAWR",
        "colab_type": "text"
      },
      "source": [
        "![nparray_四則演算](https://camo.qiitausercontent.com/705c447ded397d2ae6766d18d0a9277d8e4fc177/68747470733a2f2f64326d787565667165616137736a2e636c6f756466726f6e742e6e65742f735f453630383837363430353036333945303338424242393833423836343033374144443231423430363141363630463332304638413941363146453035333645465f313534353839323239333739325f2b323031382d31322d32372b31352e33302e35392e706e67)"
      ]
    },
    {
      "cell_type": "code",
      "metadata": {
        "id": "SlZJhBwWE_za",
        "colab_type": "code",
        "colab": {}
      },
      "source": [
        "# Numpy配列をつくる\n",
        "x = np.array([3, 1, 7, 2], dtype=np.float)\n",
        "y = np.array([4, 10, 38, 8], dtype=np.float)\n",
        "\n",
        "# 足し算\n",
        "print(x + y)\n",
        "# 引き算\n",
        "print(x - y)\n",
        "# 掛け算\n",
        "print(x * y)\n",
        "# わり算\n",
        "print(x / y)"
      ],
      "execution_count": 0,
      "outputs": []
    },
    {
      "cell_type": "markdown",
      "metadata": {
        "id": "ffZ9WG11MK6T",
        "colab_type": "text"
      },
      "source": [
        "![](https://camo.qiitausercontent.com/9c62901906ca49bb53eb261b30a18b71b224751e/68747470733a2f2f64326d787565667165616137736a2e636c6f756466726f6e742e6e65742f735f453630383837363430353036333945303338424242393833423836343033374144443231423430363141363630463332304638413941363146453035333645465f313534353839333132303531325f2b323031382d31322d32372b31352e34352e30392e706e67)"
      ]
    },
    {
      "cell_type": "code",
      "metadata": {
        "id": "CutQWuvLZodM",
        "colab_type": "code",
        "colab": {}
      },
      "source": [
        "# Numpy配列をつくる\n",
        "x = np.array([3, 1, 7, 2], dtype=np.float)\n",
        "\n",
        "# 足し算\n",
        "print(x + 2)\n",
        "# 引き算\n",
        "print(x - 2)\n",
        "# 掛け算\n",
        "print(x * 2)\n",
        "# わり算\n",
        "print(x / 2)"
      ],
      "execution_count": 0,
      "outputs": []
    },
    {
      "cell_type": "code",
      "metadata": {
        "id": "vprsGYQxZyOr",
        "colab_type": "code",
        "colab": {}
      },
      "source": [
        "# Numpy配列をつくる\n",
        "x = np.array([1, 2, 3, 4], dtype = np.float)\n",
        "\n",
        "# y= 2x+1\n",
        "y = 2.0 * x + 1.0\n",
        "print(y)\n",
        "\n",
        "# サイン\n",
        "y = np.sin(x)\n",
        "print(y)\n",
        "\n",
        "# コサイン\n",
        "y = np.cos(x)\n",
        "print(y)"
      ],
      "execution_count": 0,
      "outputs": []
    },
    {
      "cell_type": "markdown",
      "metadata": {
        "id": "0ZSbZpwuMReH",
        "colab_type": "text"
      },
      "source": [
        "![](https://camo.qiitausercontent.com/6e58efd2f5a702f6a06776d9d6051408bd2447b1/68747470733a2f2f64326d787565667165616137736a2e636c6f756466726f6e742e6e65742f735f453630383837363430353036333945303338424242393833423836343033374144443231423430363141363630463332304638413941363146453035333645465f313534353839383933323232395f2b323031382d31322d32372b31372e31382e34332e706e67)"
      ]
    },
    {
      "cell_type": "code",
      "metadata": {
        "id": "jA66BCUoZ1lg",
        "colab_type": "code",
        "colab": {}
      },
      "source": [
        "# Numpy配列をつくる\n",
        "x = np.array([1, 2, 3, 4], dtype = np.float)\n",
        "\n",
        "# 集計\n",
        "print(\"平均：\", np.mean(x))\n",
        "print(\"分散：\", np.var(x))\n",
        "print(\"最大：\", np.max(x))\n",
        "print(\"最小：\", np.min(x))"
      ],
      "execution_count": 0,
      "outputs": []
    },
    {
      "cell_type": "markdown",
      "metadata": {
        "id": "W-2t9ABzMcM7",
        "colab_type": "text"
      },
      "source": [
        "![](https://camo.qiitausercontent.com/8e3c2e3ad0783f34fff3242f75b350120e436c37/68747470733a2f2f64326d787565667165616137736a2e636c6f756466726f6e742e6e65742f735f453630383837363430353036333945303338424242393833423836343033374144443231423430363141363630463332304638413941363146453035333645465f313534353839343732383134395f2b323031382d31322d32372b31362e31312e35322e706e67)"
      ]
    },
    {
      "cell_type": "code",
      "metadata": {
        "id": "isKiyRd1Z9e6",
        "colab_type": "code",
        "colab": {}
      },
      "source": [
        "# Numpy配列をつくる\n",
        "A = np.array([[1, 2, 3],\n",
        "              [4, 5, 6],\n",
        "              [7, 8, 9],\n",
        "              [10, 11, 12]], dtype = np.float)\n",
        "print(A)"
      ],
      "execution_count": 0,
      "outputs": []
    },
    {
      "cell_type": "markdown",
      "metadata": {
        "id": "0AzS8pPKMlCt",
        "colab_type": "text"
      },
      "source": [
        "![](https://camo.qiitausercontent.com/3ce406394f3061c224f3bfd02f3f2e3ec20f2ad3/68747470733a2f2f64326d787565667165616137736a2e636c6f756466726f6e742e6e65742f735f453630383837363430353036333945303338424242393833423836343033374144443231423430363141363630463332304638413941363146453035333645465f313534353930303339383632315f2b323031382d31322d32372b31372e34362e31382e706e67)"
      ]
    },
    {
      "cell_type": "code",
      "metadata": {
        "id": "F_RJJ6keaBBC",
        "colab_type": "code",
        "colab": {}
      },
      "source": [
        "# Numpy配列をつくる\n",
        "A = np.array([[1, 2, 3],\n",
        "              [4, 5, 6],\n",
        "              [7, 8, 9],\n",
        "              [10, 11, 12]], dtype = np.float)\n",
        "\n",
        "# 形状の確認\n",
        "print(A.shape)"
      ],
      "execution_count": 0,
      "outputs": []
    },
    {
      "cell_type": "code",
      "metadata": {
        "id": "Y4-QNY2jaEA9",
        "colab_type": "code",
        "colab": {}
      },
      "source": [
        "# Numpy配列をつくる\n",
        "A = np.array([[1, 2, 3],\n",
        "              [4, 5, 6],\n",
        "              [7, 8, 9],\n",
        "              [10, 11, 12]], dtype = np.float)\n",
        "\n",
        "B = 2 * A + 1\n",
        "print(B)"
      ],
      "execution_count": 0,
      "outputs": []
    },
    {
      "cell_type": "markdown",
      "metadata": {
        "id": "csLVZoR0Mssi",
        "colab_type": "text"
      },
      "source": [
        "![](https://camo.qiitausercontent.com/5e3c37c4525671607d0536b8d2d8e43fa518def0/68747470733a2f2f64326d787565667165616137736a2e636c6f756466726f6e742e6e65742f735f453630383837363430353036333945303338424242393833423836343033374144443231423430363141363630463332304638413941363146453035333645465f313534353930313430373734335f2b323031382d31322d32372b31382e30322e35342e706e67)"
      ]
    },
    {
      "cell_type": "code",
      "metadata": {
        "id": "J4TdTb3DaHzu",
        "colab_type": "code",
        "colab": {}
      },
      "source": [
        "print(\"全集計：\", np.max(A))\n",
        "#axis = 0 で列\n",
        "print(\"列集計：\", np.max(A, axis = 0))\n",
        "#axis = 1 で行\n",
        "print(\"行集計：\", np.max(A, axis = 1))"
      ],
      "execution_count": 0,
      "outputs": []
    },
    {
      "cell_type": "markdown",
      "metadata": {
        "id": "eUHKqugOaJ3t",
        "colab_type": "text"
      },
      "source": [
        "# Dataframe"
      ]
    },
    {
      "cell_type": "code",
      "metadata": {
        "id": "Cpxy6PZAaPuT",
        "colab_type": "code",
        "colab": {}
      },
      "source": [
        "# pandasインポート\n",
        "import pandas as pd"
      ],
      "execution_count": 0,
      "outputs": []
    },
    {
      "cell_type": "markdown",
      "metadata": {
        "id": "y-R75vDbMxc1",
        "colab_type": "text"
      },
      "source": [
        "![](https://camo.qiitausercontent.com/92cc7d242d7af55fece1b849dbbdc125e50de4c0/68747470733a2f2f64326d787565667165616137736a2e636c6f756466726f6e742e6e65742f735f453630383837363430353036333945303338424242393833423836343033374144443231423430363141363630463332304638413941363146453035333645465f313534353930383034323233345f2b323031382d31322d32372b31392e35332e33392e706e67)"
      ]
    },
    {
      "cell_type": "code",
      "metadata": {
        "id": "Dk27itjaaT8l",
        "colab_type": "code",
        "colab": {}
      },
      "source": [
        "df = pd.DataFrame({\n",
        "    \"a\": [1, 2, 3],\n",
        "    \"x\": [1.0, -1.5, 2.5],\n",
        "    \"label\": [\"l1\", \"l2\", \"l3\"]\n",
        "})\n",
        "\n",
        "df"
      ],
      "execution_count": 0,
      "outputs": []
    },
    {
      "cell_type": "markdown",
      "metadata": {
        "id": "vabQ8tG5TMu0",
        "colab_type": "text"
      },
      "source": [
        "# データセットを用意\n",
        "データについての詳細は[Kaggleのサイト](https://www.kaggle.com/c/titanic/data)を参照"
      ]
    },
    {
      "cell_type": "code",
      "metadata": {
        "id": "Uwqc9NdOcDeK",
        "colab_type": "code",
        "colab": {}
      },
      "source": [
        "# データセットをダウンロード\n",
        "! wget https://gist.github.com/michhar/2dfd2de0d4f8727f873422c5d959fff5/archive/ff414a1bcfcba32481e4d4e8db578e55872a2ca1.zip -O data.zip\n",
        "! unzip -j ./data.zip"
      ],
      "execution_count": 0,
      "outputs": []
    },
    {
      "cell_type": "code",
      "metadata": {
        "id": "dj2agOIfNgUM",
        "colab_type": "code",
        "colab": {}
      },
      "source": [
        "# csvファイルをpandasのデータフレーム型にして読み込む\n",
        "titanic_df = pd.read_table(\"titanic.csv\")\n",
        "# データの先頭を見る\n",
        "titanic_df.head()"
      ],
      "execution_count": 0,
      "outputs": []
    },
    {
      "cell_type": "code",
      "metadata": {
        "id": "z_iw4E9eNnT3",
        "colab_type": "code",
        "colab": {}
      },
      "source": [
        "# データについての情報を見る\n",
        "titanic_df.info()"
      ],
      "execution_count": 0,
      "outputs": []
    },
    {
      "cell_type": "code",
      "metadata": {
        "id": "ZZfax8y7NvKi",
        "colab_type": "code",
        "colab": {}
      },
      "source": [
        "# 特定のカラムだけ見る\n",
        "titanic_df[[\"Name\", \"Sex\", \"Age\"]].head()"
      ],
      "execution_count": 0,
      "outputs": []
    },
    {
      "cell_type": "code",
      "metadata": {
        "id": "UroMbmp-N4Kk",
        "colab_type": "code",
        "colab": {}
      },
      "source": [
        "# フィルタを掛ける\n",
        "# カッコを使う方法\n",
        "male_df = titanic_df[titanic_df[\"Sex\"] == \"male\"]\n",
        "\n",
        "male_df.head()"
      ],
      "execution_count": 0,
      "outputs": []
    },
    {
      "cell_type": "code",
      "metadata": {
        "id": "ufcT8gBAOGpn",
        "colab_type": "code",
        "colab": {}
      },
      "source": [
        "# フィルタを掛ける\n",
        "# query関数を使う方法\n",
        "male_df = titanic_df.query('Sex == \"male\"')\n",
        "male_df.head()"
      ],
      "execution_count": 0,
      "outputs": []
    },
    {
      "cell_type": "code",
      "metadata": {
        "id": "_CUJvfz4OVoG",
        "colab_type": "code",
        "colab": {}
      },
      "source": [
        "# 複数条件\n",
        "# 男性かつ10代　カッコ\n",
        "# titanic_df[(titanic_df[\"Sex\"] == \"male\") & (titanic_df[\"Age\"] < 20)].head()"
      ],
      "execution_count": 0,
      "outputs": []
    },
    {
      "cell_type": "code",
      "metadata": {
        "id": "fo5aEuZFOn5P",
        "colab_type": "code",
        "colab": {}
      },
      "source": [
        "# 複数条件\n",
        "# 男性かつ10代　query\n",
        "titanic_df.query('Sex == \"male\" & Age < 20').head()"
      ],
      "execution_count": 0,
      "outputs": []
    },
    {
      "cell_type": "code",
      "metadata": {
        "id": "YOhodNsWOuxO",
        "colab_type": "code",
        "colab": {}
      },
      "source": [
        "# データ数をカウントする\n",
        "len(titanic_df)"
      ],
      "execution_count": 0,
      "outputs": []
    },
    {
      "cell_type": "code",
      "metadata": {
        "id": "Yrj9w9_BOyTM",
        "colab_type": "code",
        "colab": {}
      },
      "source": [
        "# 欠損値の確認\n",
        "null_value_stats = titanic_df.isnull().sum(axis=0)\n",
        "null_value_stats[null_value_stats != 0]"
      ],
      "execution_count": 0,
      "outputs": []
    },
    {
      "cell_type": "code",
      "metadata": {
        "id": "th4qwuKRO41Z",
        "colab_type": "code",
        "colab": {}
      },
      "source": [
        "# 欠損値を含むフィールドを除外\n",
        "len(titanic_df.dropna())"
      ],
      "execution_count": 0,
      "outputs": []
    },
    {
      "cell_type": "code",
      "metadata": {
        "id": "D0lZUfuQPj8_",
        "colab_type": "code",
        "colab": {}
      },
      "source": [
        "len(titanic_df.dropna(subset=[\"Age\"]))"
      ],
      "execution_count": 0,
      "outputs": []
    },
    {
      "cell_type": "code",
      "metadata": {
        "id": "bJa3Mc4oPomm",
        "colab_type": "code",
        "colab": {}
      },
      "source": [
        "# 別な値で埋める\n",
        "# AgeとCabinのカラムに欠損値が多いので-999で埋める\n",
        "titanic_df.fillna(-999, inplace=True)\n",
        "titanic_df.fillna(-999, inplace=True)\n",
        "\n",
        "# データを戻す\n",
        "titanic_df = pd.read_table(\"titanic.csv\")"
      ],
      "execution_count": 0,
      "outputs": []
    },
    {
      "cell_type": "code",
      "metadata": {
        "id": "jFU7Hov9P7h0",
        "colab_type": "code",
        "colab": {}
      },
      "source": [
        "# 集約\n",
        "# groupby関数(['カラム名']).集計用の関数()でクロス集計ができる\n",
        "# 客室のランクごとに、各パラメータの平均を算出します\n",
        "titanic_df.groupby(\"Pclass\").mean()"
      ],
      "execution_count": 0,
      "outputs": []
    },
    {
      "cell_type": "code",
      "metadata": {
        "id": "U-GwkvgeQcBS",
        "colab_type": "code",
        "colab": {}
      },
      "source": [
        "# ヒストグラムであれば、matplotlibをインポートせずに表示することはできる\n",
        "titanic_df['Age'].hist()"
      ],
      "execution_count": 0,
      "outputs": []
    },
    {
      "cell_type": "markdown",
      "metadata": {
        "id": "iYI2ssWPSva7",
        "colab_type": "text"
      },
      "source": [
        "# Matplotlib"
      ]
    },
    {
      "cell_type": "code",
      "metadata": {
        "id": "IeBKtKE2Q0vo",
        "colab_type": "code",
        "colab": {}
      },
      "source": [
        "# matplotlibをインポート\n",
        "import matplotlib.pyplot as plt"
      ],
      "execution_count": 0,
      "outputs": []
    },
    {
      "cell_type": "code",
      "metadata": {
        "id": "IVSBwXaWRv8A",
        "colab_type": "code",
        "colab": {}
      },
      "source": [
        "# matplotlibでヒストグラム\n",
        "plt.hist(titanic_df['Age'])"
      ],
      "execution_count": 0,
      "outputs": []
    },
    {
      "cell_type": "markdown",
      "metadata": {
        "id": "SAuwyqIUS5XQ",
        "colab_type": "text"
      },
      "source": [
        "# Seaborn"
      ]
    },
    {
      "cell_type": "code",
      "metadata": {
        "id": "y3qSZOEfR3-a",
        "colab_type": "code",
        "colab": {}
      },
      "source": [
        "# seabornをインポート\n",
        "import seaborn as sns"
      ],
      "execution_count": 0,
      "outputs": []
    },
    {
      "cell_type": "code",
      "metadata": {
        "id": "o9YlK-ipSJCb",
        "colab_type": "code",
        "colab": {}
      },
      "source": [
        "# seabornでヒストグラム\n",
        "# snsはNaNを許容しないので, 予めdropする\n",
        "titanic_df = titanic_df.dropna(subset=[\"Age\"])\n",
        "\n",
        "\n",
        "sns.distplot(titanic_df['Age'])"
      ],
      "execution_count": 0,
      "outputs": []
    },
    {
      "cell_type": "code",
      "metadata": {
        "id": "2Rkc_FckSRFX",
        "colab_type": "code",
        "colab": {}
      },
      "source": [
        "# seabornで棒グラフ\n",
        "# 客室のランクごとのデータ件数を可視化\n",
        "sns.countplot(x=\"Pclass\", data=titanic_df)"
      ],
      "execution_count": 0,
      "outputs": []
    },
    {
      "cell_type": "code",
      "metadata": {
        "id": "OeBN3SdvTCBj",
        "colab_type": "code",
        "colab": {}
      },
      "source": [
        "# 各軸を男女に分割して集計\n",
        "sns.countplot(x=\"Pclass\", hue=\"Sex\", data=titanic_df)"
      ],
      "execution_count": 0,
      "outputs": []
    },
    {
      "cell_type": "markdown",
      "metadata": {
        "id": "gE1lrQzBUAid",
        "colab_type": "text"
      },
      "source": [
        "## ワーク1\n",
        "\n",
        "男女で客数に違いがあるのか？"
      ]
    },
    {
      "cell_type": "code",
      "metadata": {
        "id": "llCvTdV9Tckj",
        "colab_type": "code",
        "colab": {}
      },
      "source": [
        "sns.countplot(x=\"Sex\", data=titanic_df)"
      ],
      "execution_count": 0,
      "outputs": []
    },
    {
      "cell_type": "markdown",
      "metadata": {
        "id": "zTCs3xa-ULmd",
        "colab_type": "text"
      },
      "source": [
        "## ワーク2\n",
        "客数のグレード別に男女の差があるのか？"
      ]
    },
    {
      "cell_type": "code",
      "metadata": {
        "id": "OqtNfhyjUIYJ",
        "colab_type": "code",
        "colab": {}
      },
      "source": [
        "sns.countplot(x=\"Pclass\", hue=\"Sex\", data=titanic_df)"
      ],
      "execution_count": 0,
      "outputs": []
    },
    {
      "cell_type": "markdown",
      "metadata": {
        "id": "AgGQxhQjUgUL",
        "colab_type": "text"
      },
      "source": [
        "## ワーク3\n",
        "男女以外に子供(16歳以下)という分類を追加する"
      ]
    },
    {
      "cell_type": "code",
      "metadata": {
        "id": "hzqxiTW5UVIs",
        "colab_type": "code",
        "colab": {}
      },
      "source": [
        "def male_female_child(passenger):\n",
        "  age, sex = passenger\n",
        "\n",
        "  if age < 16:\n",
        "    return 'child'\n",
        "  else:\n",
        "    return sex\n",
        "\n",
        "titanic_df['person'] = titanic_df[['Age', 'Sex']].apply(male_female_child, axis=1)\n",
        "\n",
        "sns.countplot(x=\"Pclass\", hue=\"person\", data=titanic_df)"
      ],
      "execution_count": 0,
      "outputs": []
    },
    {
      "cell_type": "markdown",
      "metadata": {
        "id": "2pq6ss9gU7ZC",
        "colab_type": "text"
      },
      "source": [
        "# ヒストグラム上に現れるなめらかな曲線の正体"
      ]
    },
    {
      "cell_type": "code",
      "metadata": {
        "id": "X-tdPIuvUofM",
        "colab_type": "code",
        "colab": {}
      },
      "source": [
        "# seabornでヒストグラム\n",
        "# snsはNaNを許容しないので, 予めdropする\n",
        "titanic_df = titanic_df.dropna(subset=[\"Age\"])\n",
        "\n",
        "# kdeをFalseにすると消える\n",
        "sns.distplot(titanic_df['Age'], kde=False)"
      ],
      "execution_count": 0,
      "outputs": []
    },
    {
      "cell_type": "code",
      "metadata": {
        "id": "PutLAJQhVQyw",
        "colab_type": "code",
        "colab": {}
      },
      "source": [
        "# 逆に曲線だけを表示する\n",
        "sns.kdeplot(titanic_df['Age'])"
      ],
      "execution_count": 0,
      "outputs": []
    },
    {
      "cell_type": "markdown",
      "metadata": {
        "id": "F_QemKIsW1ln",
        "colab_type": "text"
      },
      "source": [
        "このなめらかな曲線の正体はカーネル密度関数\n",
        "\n",
        "sns.kdeplotはカーネル密度推定(Kernel Density Estimation)のメソッドを指します。\n",
        "\n",
        "カーネル密度推定では各データを一つの波(カーネル関数)で表し、その波を合成することで得られます。\n",
        "\n",
        "![](https://camo.qiitausercontent.com/9d57069abfd7959bf9d548f2dbaaf3df7f432a28/68747470733a2f2f75706c6f61642e77696b696d656469612e6f72672f77696b6970656469612f636f6d6d6f6e732f7468756d622f612f61332f5061727a656e5f77696e646f775f696c6c757374726174696f6e2e7376672f36323070782d5061727a656e5f77696e646f775f696c6c757374726174696f6e2e7376672e706e67)"
      ]
    },
    {
      "cell_type": "code",
      "metadata": {
        "id": "Ezji0_DgWyV1",
        "colab_type": "code",
        "colab": {}
      },
      "source": [
        "# 性別で層別化して、kdeのグラフを表示\n",
        "\n",
        "# FacetGridを使うと、複数のカーネル密度推定のグラフを1つのプロットに描くことができます。\n",
        "# 性別で層別化して、グラフを少し横長に設定します。\n",
        "fig = sns.FacetGrid(titanic_df, hue=\"Sex\",aspect=3.5)\n",
        "\n",
        "# mapを使って、性別ごとにkdeplotを描くようにします。\n",
        "fig.map(sns.kdeplot,'Age',shade= True)\n",
        "\n",
        "# xの最大値を長老に合わせます。\n",
        "oldest = titanic_df['Age'].max()\n",
        "\n",
        "# x軸の範囲を設定します。\n",
        "fig.set(xlim=(0,oldest))\n",
        "\n",
        "# 凡例を付け加えておきましょう。\n",
        "fig.add_legend()"
      ],
      "execution_count": 0,
      "outputs": []
    },
    {
      "cell_type": "code",
      "metadata": {
        "id": "ntHCClcpXPDC",
        "colab_type": "code",
        "colab": {}
      },
      "source": [
        "# 子供も追加する\n",
        "\n",
        "fig = sns.FacetGrid(titanic_df, hue=\"person\",aspect=3.5)\n",
        "fig.map(sns.kdeplot,'Age',shade= True)\n",
        "oldest = titanic_df['Age'].max()\n",
        "fig.set(xlim=(0,oldest))\n",
        "fig.add_legend()"
      ],
      "execution_count": 0,
      "outputs": []
    },
    {
      "cell_type": "markdown",
      "metadata": {
        "id": "gbRdqUasXiMK",
        "colab_type": "text"
      },
      "source": [
        "# その他参考リソース\n",
        "[データサイエンス](http://www.tsjshg.info/udemy/notebooks.html)\n",
        "\n"
      ]
    },
    {
      "cell_type": "markdown",
      "metadata": {
        "id": "zhfaa3osYfie",
        "colab_type": "text"
      },
      "source": [
        "# Pandas Profiting"
      ]
    },
    {
      "cell_type": "code",
      "metadata": {
        "id": "r-uOziT-Xafo",
        "colab_type": "code",
        "colab": {}
      },
      "source": [
        "# pandas profittingをインポート\n",
        "import pandas_profiling as pdp"
      ],
      "execution_count": 0,
      "outputs": []
    },
    {
      "cell_type": "code",
      "metadata": {
        "id": "YD8ZsvCKYlaS",
        "colab_type": "code",
        "colab": {}
      },
      "source": [
        "# 実行\n",
        "df = pd.read_table(\"titanic.csv\")\n",
        "pdp.ProfileReport(df)"
      ],
      "execution_count": 0,
      "outputs": []
    },
    {
      "cell_type": "markdown",
      "metadata": {
        "id": "M67StvsxZz0i",
        "colab_type": "text"
      },
      "source": [
        "# Scikit-learn"
      ]
    },
    {
      "cell_type": "code",
      "metadata": {
        "id": "bwz03eFyYn9Q",
        "colab_type": "code",
        "colab": {}
      },
      "source": [
        "# 線形回帰をしてみる\n",
        "\n",
        "# データセットを作成\n",
        "rng = np.random.RandomState(1)\n",
        "x = 10 * rng.rand(50)\n",
        "y = 2*x - 5 + rng.randn(50)\n",
        "\n",
        "# 表示\n",
        "plt.scatter(x, y)"
      ],
      "execution_count": 0,
      "outputs": []
    },
    {
      "cell_type": "code",
      "metadata": {
        "id": "lPMd50dwaRIM",
        "colab_type": "code",
        "colab": {}
      },
      "source": [
        "from sklearn.linear_model import LinearRegression"
      ],
      "execution_count": 0,
      "outputs": []
    },
    {
      "cell_type": "code",
      "metadata": {
        "id": "UZ1a3J6waegR",
        "colab_type": "code",
        "colab": {}
      },
      "source": [
        "# 線形モデルを作成\n",
        "model = LinearRegression(fit_intercept=True)\n",
        "\n",
        "# モデルを学習\n",
        "model.fit(x[:, np.newaxis], y)"
      ],
      "execution_count": 0,
      "outputs": []
    },
    {
      "cell_type": "code",
      "metadata": {
        "id": "TVG4Pfzjam84",
        "colab_type": "code",
        "colab": {}
      },
      "source": [
        "# モデルを使って推定\n",
        "xfit = np.linspace(0, 10, 1000)\n",
        "yfit = model.predict(xfit[:, np.newaxis])"
      ],
      "execution_count": 0,
      "outputs": []
    },
    {
      "cell_type": "code",
      "metadata": {
        "id": "8tWaiCoYa7d9",
        "colab_type": "code",
        "colab": {}
      },
      "source": [
        "# ブラフを描画\n",
        "plt.scatter(x, y)\n",
        "plt.plot(xfit, yfit)"
      ],
      "execution_count": 0,
      "outputs": []
    },
    {
      "cell_type": "markdown",
      "metadata": {
        "id": "Tchc8JdFepEx",
        "colab_type": "text"
      },
      "source": [
        "# Tensorflow"
      ]
    },
    {
      "cell_type": "code",
      "metadata": {
        "id": "mAKtqbsSbEIo",
        "colab_type": "code",
        "colab": {}
      },
      "source": [
        "import tensorflow as tf\n",
        "\n",
        "# 計算グラフを作る\n",
        "x = tf.Variable(3, name=\"x\")\n",
        "f = 2*x + 4"
      ],
      "execution_count": 0,
      "outputs": []
    },
    {
      "cell_type": "code",
      "metadata": {
        "id": "iN-S_dZ7e1jk",
        "colab_type": "code",
        "colab": {}
      },
      "source": [
        "# セッションを開きfを推定\n",
        "sess = tf.Session()\n",
        "sess.run(x.initializer)\n",
        "result = sess.run(f)\n",
        "print(result)\n",
        "sess.close()"
      ],
      "execution_count": 0,
      "outputs": []
    },
    {
      "cell_type": "code",
      "metadata": {
        "id": "DEEIfpzufAYH",
        "colab_type": "code",
        "colab": {}
      },
      "source": [
        "# 平易な書き方\n",
        "with tf.Session() as sess:\n",
        "    x.initializer.run()\n",
        "    print(f.eval())"
      ],
      "execution_count": 0,
      "outputs": []
    },
    {
      "cell_type": "code",
      "metadata": {
        "id": "F5xR74JRf5se",
        "colab_type": "code",
        "colab": {}
      },
      "source": [
        "x1 = tf.Variable(1)\n",
        "x1.graph is tf.get_default_graph()"
      ],
      "execution_count": 0,
      "outputs": []
    },
    {
      "cell_type": "code",
      "metadata": {
        "id": "bTa1cnRqgvAt",
        "colab_type": "code",
        "colab": {}
      },
      "source": [
        ""
      ],
      "execution_count": 0,
      "outputs": []
    }
  ]
}