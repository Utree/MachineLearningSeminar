{
  "nbformat": 4,
  "nbformat_minor": 0,
  "metadata": {
    "colab": {
      "name": "02_Python入門.ipynb",
      "version": "0.3.2",
      "provenance": [],
      "collapsed_sections": [
        "BJuNF745QKy0",
        "eSnk7YZzQukT",
        "mx_355VFRE7U"
      ]
    },
    "kernelspec": {
      "name": "python3",
      "display_name": "Python 3"
    }
  },
  "cells": [
    {
      "cell_type": "markdown",
      "metadata": {
        "id": "t1jbCiW2Pw-c",
        "colab_type": "text"
      },
      "source": [
        "# Python入門\n",
        "\n",
        "- [Open with Colab](https://colab.research.google.com/github/Utree/MachineLearningSeminar/blob/master/02_Python入門.ipynb)"
      ]
    },
    {
      "cell_type": "markdown",
      "metadata": {
        "id": "BJuNF745QKy0",
        "colab_type": "text"
      },
      "source": [
        "##入力"
      ]
    },
    {
      "cell_type": "code",
      "metadata": {
        "id": "8y-Sm6tXPvdg",
        "colab_type": "code",
        "colab": {}
      },
      "source": [
        "# 標準入力\n",
        "input(\"文字を入力してください\")"
      ],
      "execution_count": 0,
      "outputs": []
    },
    {
      "cell_type": "code",
      "metadata": {
        "id": "BlDYC_ZQQaU2",
        "colab_type": "code",
        "colab": {}
      },
      "source": [
        "# ファイル入力\n",
        "with open(\"./hello.txt\", mode='w') as f:\n",
        "    f.write(\"Hello World\")"
      ],
      "execution_count": 0,
      "outputs": []
    },
    {
      "cell_type": "markdown",
      "metadata": {
        "id": "eSnk7YZzQukT",
        "colab_type": "text"
      },
      "source": [
        "## 出力"
      ]
    },
    {
      "cell_type": "code",
      "metadata": {
        "id": "iJ3fqH6YQplN",
        "colab_type": "code",
        "colab": {}
      },
      "source": [
        "# 標準出力\n",
        "print(\"こんにちは\")"
      ],
      "execution_count": 0,
      "outputs": []
    },
    {
      "cell_type": "code",
      "metadata": {
        "id": "-uFkerXJQxzn",
        "colab_type": "code",
        "colab": {}
      },
      "source": [
        "# ファイル出力\n",
        "with open(\"./hello.txt\") as f:\n",
        "    print(f.read())"
      ],
      "execution_count": 0,
      "outputs": []
    },
    {
      "cell_type": "markdown",
      "metadata": {
        "id": "mx_355VFRE7U",
        "colab_type": "text"
      },
      "source": [
        "## 処理"
      ]
    },
    {
      "cell_type": "markdown",
      "metadata": {
        "id": "myrWKvFDRm8J",
        "colab_type": "text"
      },
      "source": [
        "### 変数"
      ]
    },
    {
      "cell_type": "code",
      "metadata": {
        "id": "KQp12-lVRqyx",
        "colab_type": "code",
        "colab": {}
      },
      "source": [
        "# 変数の宣言と初期化\n",
        "first_name = \"たろう\"\n",
        "last_name = \"田中\"\n",
        "age = 10\n",
        "\n",
        "# 出力\n",
        "print(last_name, first_name, age) # 田中 たろう 10\n",
        "\n",
        "print(last_name + first_name) # 田中たろう\n",
        "\n",
        "# print(last_name+age) # error\n",
        "\n",
        "# print(last_name*age) # 田中田中田中田中田中田中田中田中田中田中"
      ],
      "execution_count": 0,
      "outputs": []
    },
    {
      "cell_type": "markdown",
      "metadata": {
        "id": "lt4aj1OSroQq",
        "colab_type": "text"
      },
      "source": [
        "### list, dict, tuple, set\n",
        "#### list\n",
        "- リスト型\n",
        "- cで言う配列みたいなもの\n",
        "\n",
        "#### tuple\n",
        "- タプル型\n",
        "- 不可編のlist型, listよりメモリ使用量が少ない\n",
        "\n",
        "#### dict\n",
        "- 辞書型\n",
        "- key-value形式で値を保存。keyの重複は許さない\n",
        "\n",
        "#### set\n",
        "- セット型\n",
        "- 数学でいうと、集合みたいな感じ\n",
        "\n",
        "https://qiita.com/ishida330/items/9692836aa860b2d0c36c"
      ]
    },
    {
      "cell_type": "code",
      "metadata": {
        "id": "-_o7di5htmCt",
        "colab_type": "code",
        "colab": {}
      },
      "source": [
        "# list\n",
        "sample_list = [1,1,3,4]\n",
        "print(sample_list) # [1, 1, 3, 4]"
      ],
      "execution_count": 0,
      "outputs": []
    },
    {
      "cell_type": "code",
      "metadata": {
        "id": "mm89VahYwqTU",
        "colab_type": "code",
        "colab": {}
      },
      "source": [
        "#tuple\n",
        "sample_tuple = (1, 1, 3, 4)\n",
        "print(sample_tuple) # (1, 1, 3, 4)"
      ],
      "execution_count": 0,
      "outputs": []
    },
    {
      "cell_type": "code",
      "metadata": {
        "id": "rkJnYZpcwqEJ",
        "colab_type": "code",
        "colab": {}
      },
      "source": [
        "# dict\n",
        "sample_dict = {'one':1, 'two':2, 'three': 3}\n",
        "print(sample_dict) # {'one': 1, 'two': 2, 'three': 3}"
      ],
      "execution_count": 0,
      "outputs": []
    },
    {
      "cell_type": "code",
      "metadata": {
        "id": "ZbQEicoPwp4d",
        "colab_type": "code",
        "colab": {}
      },
      "source": [
        "# set\n",
        "sample_set = {1, 1, 3, 4}\n",
        "print(sample_set) # {1, 3, 4}"
      ],
      "execution_count": 0,
      "outputs": []
    },
    {
      "cell_type": "markdown",
      "metadata": {
        "id": "HxjawIkbmoKo",
        "colab_type": "text"
      },
      "source": [
        "### ミュータブル(mutable)とイミュータブル(imutable)\n",
        "\n",
        "- mutableは可変な値 {list, dict, class 定義文で定義したクラス}\n",
        "- imutableは不可変な値 {int, str, boo, tuple}\n",
        "- 再代入できるから、可変不可変というわけではない\n",
        "- そもそも、pythonにおいて値(イテラル)やインスタンスは全てオブジェクトとして実装されている。(C言語のような\"入れ物\"という考えは厳密には間違い)\n",
        "\n",
        "\n",
        "https://python.ms/welcome/"
      ]
    },
    {
      "cell_type": "code",
      "metadata": {
        "id": "ws4xvD7qqPpb",
        "colab_type": "code",
        "colab": {}
      },
      "source": [
        "# mutable\n",
        "list = [1, 2, 3, 4]\n",
        "\n",
        "# 再代入可能\n",
        "print(list)\n",
        "list[0] = 5\n",
        "print(list)"
      ],
      "execution_count": 0,
      "outputs": []
    },
    {
      "cell_type": "code",
      "metadata": {
        "id": "dgNsDUSgqcfD",
        "colab_type": "code",
        "colab": {}
      },
      "source": [
        "# imutable\n",
        "a: int = 5\n",
        "\n",
        "# 再代入できるからmutable(可変)というわけではなく\n",
        "print(a) # 5\n",
        "a = 3\n",
        "print(a) # 3\n",
        "\n",
        "# オブジェクトの属性値を変更できないからimutable(不可変)\n",
        "print(a.imag) # 虚数\n",
        "# a.imag = 8 # error"
      ],
      "execution_count": 0,
      "outputs": []
    },
    {
      "cell_type": "markdown",
      "metadata": {
        "id": "01-nauLMlUnD",
        "colab_type": "text"
      },
      "source": [
        "### 動的型付けと静的型付け\n",
        "-  Pythonは動的型付け\n",
        "- アノテーションで型ヒントを付けることもできる\n",
        "- 静的型付けではなく、ヒント。コメントの拡張版みたいなもの\n",
        "- 静的型付け(実行前に型検査を行う)ではないので、速度も上がらない\n",
        "- 実行前にバグが見つけやすくなるだけ。\n",
        "- 注意: Python3.6以前では動かなくなることがある"
      ]
    },
    {
      "cell_type": "code",
      "metadata": {
        "id": "7RnoDeoqlZHI",
        "colab_type": "code",
        "colab": {}
      },
      "source": [
        "# アノテーションで型ヒントを付けることもできる\n",
        "age: int = 10\n",
        "\n",
        "# 変数アノテーションはTypeErrorを吐かない\n",
        "age = \"10\""
      ],
      "execution_count": 0,
      "outputs": []
    },
    {
      "cell_type": "code",
      "metadata": {
        "id": "27i50ZVkvkEm",
        "colab_type": "code",
        "colab": {}
      },
      "source": [
        "def sum_function(a: int, b: int) -> int:\n",
        "    return a+b\n",
        "\n",
        "\n",
        "print(sum_function(1, 1))\n",
        "# colabではTypeErrorを吐かないが、コンパイラによっては吐くものもある\n",
        "print(sum(\"hello\", \"world\"))"
      ],
      "execution_count": 0,
      "outputs": []
    },
    {
      "cell_type": "markdown",
      "metadata": {
        "id": "0W-K9LQHRmCe",
        "colab_type": "text"
      },
      "source": [
        "### 四則演算"
      ]
    },
    {
      "cell_type": "code",
      "metadata": {
        "id": "kYqixHTLQ6hr",
        "colab_type": "code",
        "colab": {}
      },
      "source": [
        "# 足し算\n",
        "print(1+1)"
      ],
      "execution_count": 0,
      "outputs": []
    },
    {
      "cell_type": "code",
      "metadata": {
        "id": "sNqOAnBxRJXK",
        "colab_type": "code",
        "colab": {}
      },
      "source": [
        "# 引き算\n",
        "print(3-1)"
      ],
      "execution_count": 0,
      "outputs": []
    },
    {
      "cell_type": "code",
      "metadata": {
        "id": "vIyUV3g_RLzu",
        "colab_type": "code",
        "colab": {}
      },
      "source": [
        "# 掛け算\n",
        "print(2*5)"
      ],
      "execution_count": 0,
      "outputs": []
    },
    {
      "cell_type": "code",
      "metadata": {
        "id": "x8BuLOPeROSv",
        "colab_type": "code",
        "colab": {}
      },
      "source": [
        "# 割り算\n",
        "print(10/2)"
      ],
      "execution_count": 0,
      "outputs": []
    },
    {
      "cell_type": "code",
      "metadata": {
        "id": "vRkr7n8pRQzk",
        "colab_type": "code",
        "colab": {}
      },
      "source": [
        "# 2乗\n",
        "print(4**2)"
      ],
      "execution_count": 0,
      "outputs": []
    },
    {
      "cell_type": "markdown",
      "metadata": {
        "id": "aDvuZ4Dcw5uz",
        "colab_type": "text"
      },
      "source": [
        "### ループ"
      ]
    },
    {
      "cell_type": "code",
      "metadata": {
        "id": "a-piqRJWRWPY",
        "colab_type": "code",
        "colab": {}
      },
      "source": [
        "for i in [1,2,3]:\n",
        "    print(i)\n",
        "    \n",
        "while False:\n",
        "    print(\"hello\") # 表示されない"
      ],
      "execution_count": 0,
      "outputs": []
    },
    {
      "cell_type": "markdown",
      "metadata": {
        "id": "5EBLYBHnxRdb",
        "colab_type": "text"
      },
      "source": [
        "### 分岐\n",
        "\n",
        "switch-caseは無い"
      ]
    },
    {
      "cell_type": "code",
      "metadata": {
        "id": "rPQgM59BxNbq",
        "colab_type": "code",
        "colab": {}
      },
      "source": [
        "if True:\n",
        "    print(1) # ここだけ表示\n",
        "elif False:\n",
        "    print(2)\n",
        "else:\n",
        "    print(3)"
      ],
      "execution_count": 0,
      "outputs": []
    },
    {
      "cell_type": "markdown",
      "metadata": {
        "id": "RzumUwtFyqA9",
        "colab_type": "text"
      },
      "source": [
        "### 比較演算子\n",
        "\n",
        "https://note.nkmk.me/python-if-elif-else/"
      ]
    },
    {
      "cell_type": "code",
      "metadata": {
        "id": "n63pfjrhyKZM",
        "colab_type": "code",
        "colab": {}
      },
      "source": [
        "print(True)  # True\n",
        "print(False)  # False\n",
        "\n",
        "print(True or False)  # True\n",
        "print(True and False)  # False\n",
        "print(not False)  # True\n",
        "\n",
        "print(1 < 2)  # True\n",
        "print(1 != 2)  # True\n"
      ],
      "execution_count": 0,
      "outputs": []
    },
    {
      "cell_type": "markdown",
      "metadata": {
        "id": "Uw9V5r-3PK47",
        "colab_type": "text"
      },
      "source": [
        "### 関数\n",
        "\n",
        "一連の処理をまとめたもの"
      ]
    },
    {
      "cell_type": "code",
      "metadata": {
        "id": "xv3UciAIPMF0",
        "colab_type": "code",
        "colab": {}
      },
      "source": [
        "# 実装\n",
        "def greeting(name):\n",
        "    \"\"\" 挨拶をする関数\n",
        "    \n",
        "    Args:\n",
        "        name (str): 名前\n",
        "    \n",
        "    Returns:\n",
        "        None: 何も返さない\n",
        "    \"\"\"\n",
        "    print(\"Hello \" + name)"
      ],
      "execution_count": 0,
      "outputs": []
    },
    {
      "cell_type": "code",
      "metadata": {
        "id": "Wcu-2sSRSzPA",
        "colab_type": "code",
        "colab": {}
      },
      "source": [
        "# 呼び出し\n",
        "greeting(\"World\")"
      ],
      "execution_count": 0,
      "outputs": []
    },
    {
      "cell_type": "markdown",
      "metadata": {
        "id": "DujLrAUBPMsg",
        "colab_type": "text"
      },
      "source": [
        "### クラス\n",
        "\n",
        "- 関数や変数をまとめて、ひな形(テンプレ)にしたもの\n",
        "\n",
        "- 独自のデータ型を定義するためのもの(<-> 組み込みのデータ型: int, str)"
      ]
    },
    {
      "cell_type": "code",
      "metadata": {
        "id": "Mtvxsm0zPOoj",
        "colab_type": "code",
        "colab": {}
      },
      "source": [
        "# 実装\n",
        "class Human:\n",
        "    \"\"\" 人間クラス\n",
        "    \n",
        "    このクラスには人間の名前と、挨拶の動作が定義する\n",
        "    \n",
        "    Note:\n",
        "      年齢を記憶するフィールドを持たない\n",
        "      \n",
        "    Attributes:\n",
        "      name (str): 名前\n",
        "      greeting_counter (int): 挨拶の回数\n",
        "    \"\"\"\n",
        "  \n",
        "    def __init__(self, name):\n",
        "        \"\"\" 初期化メソッド\n",
        "        \n",
        "        このメソッドでは、名前を初期化する\n",
        "        \n",
        "        Args:\n",
        "            name (str): 名前\n",
        "        \"\"\"\n",
        "        self.name = name\n",
        "        self.greeting_counter = 0\n",
        "    \n",
        "    def hello(self):\n",
        "        \"\"\" helloメソッド\n",
        "        \n",
        "        こんにちは、nameですと言い、greeting_counterを1足す\n",
        "        \"\"\"\n",
        "        print(\"こんにちは、\" + self.name + \"です\")\n",
        "        self.greeting_counter = self.greeting_counter + 1\n",
        "    \n",
        "    def goodbye(self):\n",
        "        \"\"\" goodbyeメソッド\n",
        "        \n",
        "        さようならと言い、greeting_counterを1足す\n",
        "        \"\"\"\n",
        "        print(\"さようなら\")\n",
        "        self.greeting_counter = self.greeting_counter + 1"
      ],
      "execution_count": 0,
      "outputs": []
    },
    {
      "cell_type": "code",
      "metadata": {
        "id": "z5oN_hPmTGs4",
        "colab_type": "code",
        "colab": {}
      },
      "source": [
        "# 呼び出し\n",
        "m = Human(\"David\")\n",
        "\n",
        "m.hello()\n",
        "m.goodbye()\n",
        "\n",
        "print(m.greeting_counter)"
      ],
      "execution_count": 0,
      "outputs": []
    }
  ]
}