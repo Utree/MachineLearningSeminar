{
 "cells": [
  {
   "cell_type": "markdown",
   "metadata": {
    "id": "t1jbCiW2Pw-c",
    "colab_type": "text"
   },
   "source": [
    "# Python入門"
   ]
  },
  {
   "cell_type": "markdown",
   "metadata": {
    "id": "BJuNF745QKy0",
    "colab_type": "text"
   },
   "source": [
    "##入力"
   ]
  },
  {
   "cell_type": "code",
   "execution_count": 14,
   "metadata": {
    "id": "8y-Sm6tXPvdg",
    "colab_type": "code",
    "colab": {
     "base_uri": "https://localhost:8080/",
     "height": 53.0
    },
    "outputId": "80a5cb37-d690-40b4-cb6b-81d12bbe9bee"
   },
   "outputs": [
    {
     "name": "stdout",
     "output_type": "stream",
     "text": [
      "文字を入力してくださいhello\n"
     ]
    },
    {
     "data": {
      "text/plain": [
       "'hello'"
      ]
     },
     "execution_count": 14,
     "metadata": {
      "tags": []
     },
     "output_type": "execute_result"
    }
   ],
   "source": [
    "# 標準入力\n",
    "input(\"文字を入力してください\")"
   ]
  },
  {
   "cell_type": "code",
   "execution_count": 0,
   "metadata": {
    "id": "BlDYC_ZQQaU2",
    "colab_type": "code",
    "colab": {}
   },
   "outputs": [],
   "source": [
    "# ファイル入力\n",
    "with open(\"./hello.txt\", mode='w') as f:\n",
    "    f.write(\"Hello World\")"
   ]
  },
  {
   "cell_type": "markdown",
   "metadata": {
    "id": "eSnk7YZzQukT",
    "colab_type": "text"
   },
   "source": [
    "## 出力"
   ]
  },
  {
   "cell_type": "code",
   "execution_count": 16,
   "metadata": {
    "id": "iJ3fqH6YQplN",
    "colab_type": "code",
    "colab": {
     "base_uri": "https://localhost:8080/",
     "height": 35.0
    },
    "outputId": "1cedbe88-51a5-4dcb-8ab8-d8507895e8ea"
   },
   "outputs": [
    {
     "name": "stdout",
     "output_type": "stream",
     "text": [
      "こんにちは\n"
     ]
    }
   ],
   "source": [
    "# 標準出力\n",
    "print(\"こんにちは\")"
   ]
  },
  {
   "cell_type": "code",
   "execution_count": 17,
   "metadata": {
    "id": "-uFkerXJQxzn",
    "colab_type": "code",
    "colab": {
     "base_uri": "https://localhost:8080/",
     "height": 35.0
    },
    "outputId": "19d24e32-b0f6-4023-f1d5-85ef66475ff9"
   },
   "outputs": [
    {
     "name": "stdout",
     "output_type": "stream",
     "text": [
      "Hello World\n"
     ]
    }
   ],
   "source": [
    "# ファイル出力\n",
    "with open(\"./hello.txt\") as f:\n",
    "    print(f.read())"
   ]
  },
  {
   "cell_type": "markdown",
   "metadata": {
    "id": "mx_355VFRE7U",
    "colab_type": "text"
   },
   "source": [
    "## 処理"
   ]
  },
  {
   "cell_type": "markdown",
   "metadata": {
    "id": "myrWKvFDRm8J",
    "colab_type": "text"
   },
   "source": [
    "### 変数"
   ]
  },
  {
   "cell_type": "code",
   "execution_count": 18,
   "metadata": {
    "id": "KQp12-lVRqyx",
    "colab_type": "code",
    "colab": {
     "base_uri": "https://localhost:8080/",
     "height": 53.0
    },
    "outputId": "7b7b5b20-3e12-463b-8f42-95df4292cbd7"
   },
   "outputs": [
    {
     "name": "stdout",
     "output_type": "stream",
     "text": [
      "田中 たろう 10\n",
      "田中たろう\n"
     ]
    }
   ],
   "source": [
    "# 変数の宣言と初期化\n",
    "first_name = \"たろう\"\n",
    "last_name = \"田中\"\n",
    "age = 10\n",
    "\n",
    "# 出力\n",
    "print(last_name, first_name, age) # 田中 たろう 10\n",
    "\n",
    "print(last_name + first_name) # 田中たろう\n",
    "\n",
    "# print(last_name+age) # error\n",
    "\n",
    "# print(last_name*age) # 田中田中田中田中田中田中田中田中田中田中"
   ]
  },
  {
   "cell_type": "markdown",
   "metadata": {
    "id": "lt4aj1OSroQq",
    "colab_type": "text"
   },
   "source": [
    "### list, dict, tuple, set\n",
    "#### list\n",
    "- リスト型\n",
    "- cで言う配列みたいなもの\n",
    "\n",
    "#### tuple\n",
    "- タプル型\n",
    "- 不可編のlist型, listよりメモリ使用量が少ない\n",
    "\n",
    "#### dict\n",
    "- 辞書型\n",
    "- key-value形式で値を保存。keyの重複は許さない\n",
    "\n",
    "#### set\n",
    "- セット型\n",
    "- 数学でいうと、集合みたいな感じ\n",
    "\n",
    "https://qiita.com/ishida330/items/9692836aa860b2d0c36c"
   ]
  },
  {
   "cell_type": "code",
   "execution_count": 19,
   "metadata": {
    "id": "-_o7di5htmCt",
    "colab_type": "code",
    "colab": {
     "base_uri": "https://localhost:8080/",
     "height": 35.0
    },
    "outputId": "1e5b96c5-72cf-4aa7-ea69-8ea2c0f1ce11"
   },
   "outputs": [
    {
     "name": "stdout",
     "output_type": "stream",
     "text": [
      "[1, 1, 3, 4]\n"
     ]
    }
   ],
   "source": [
    "# list\n",
    "sample_list = [1,1,3,4]\n",
    "print(sample_list) # [1, 1, 3, 4]"
   ]
  },
  {
   "cell_type": "code",
   "execution_count": 20,
   "metadata": {
    "id": "mm89VahYwqTU",
    "colab_type": "code",
    "colab": {
     "base_uri": "https://localhost:8080/",
     "height": 35.0
    },
    "outputId": "5eac3ae1-9463-4a6f-d1df-d0c17ae13b6b"
   },
   "outputs": [
    {
     "name": "stdout",
     "output_type": "stream",
     "text": [
      "(1, 1, 3, 4)\n"
     ]
    }
   ],
   "source": [
    "#tuple\n",
    "sample_tuple = (1, 1, 3, 4)\n",
    "print(sample_tuple) # (1, 1, 3, 4)"
   ]
  },
  {
   "cell_type": "code",
   "execution_count": 21,
   "metadata": {
    "id": "rkJnYZpcwqEJ",
    "colab_type": "code",
    "colab": {
     "base_uri": "https://localhost:8080/",
     "height": 35.0
    },
    "outputId": "56c1130b-6fdf-4a80-c280-512da30c2ed4"
   },
   "outputs": [
    {
     "name": "stdout",
     "output_type": "stream",
     "text": [
      "{'one': 1, 'two': 2, 'three': 3}\n"
     ]
    }
   ],
   "source": [
    "# dict\n",
    "sample_dict = {'one':1, 'two':2, 'three': 3}\n",
    "print(sample_dict) # {'one': 1, 'two': 2, 'three': 3}"
   ]
  },
  {
   "cell_type": "code",
   "execution_count": 22,
   "metadata": {
    "id": "ZbQEicoPwp4d",
    "colab_type": "code",
    "colab": {
     "base_uri": "https://localhost:8080/",
     "height": 35.0
    },
    "outputId": "96fe1747-286e-4f85-bde7-93d73f46db7d"
   },
   "outputs": [
    {
     "name": "stdout",
     "output_type": "stream",
     "text": [
      "{1, 3, 4}\n"
     ]
    }
   ],
   "source": [
    "# set\n",
    "sample_set = {1, 1, 3, 4}\n",
    "print(sample_set) # {1, 3, 4}"
   ]
  },
  {
   "cell_type": "markdown",
   "metadata": {
    "id": "HxjawIkbmoKo",
    "colab_type": "text"
   },
   "source": [
    "### ミュータブル(mutable)とイミュータブル(imutable)\n",
    "\n",
    "- mutableは可変な値 {list, dict, class 定義文で定義したクラス}\n",
    "- imutableは不可変な値 {int, str, boo, tuple}\n",
    "- 再代入できるから、可変不可変というわけではない\n",
    "- そもそも、pythonにおいて値(イテラル)やインスタンスは全てオブジェクトとして実装されている。(C言語のような\"入れ物\"という考えは厳密には間違い)\n",
    "\n",
    "\n",
    "https://python.ms/welcome/"
   ]
  },
  {
   "cell_type": "code",
   "execution_count": 23,
   "metadata": {
    "id": "ws4xvD7qqPpb",
    "colab_type": "code",
    "colab": {
     "base_uri": "https://localhost:8080/",
     "height": 53.0
    },
    "outputId": "7d0abdd7-095a-4d66-b41f-2e3a69882856"
   },
   "outputs": [
    {
     "name": "stdout",
     "output_type": "stream",
     "text": [
      "[1, 2, 3, 4]\n",
      "[5, 2, 3, 4]\n"
     ]
    }
   ],
   "source": [
    "# mutable\n",
    "list = [1, 2, 3, 4]\n",
    "\n",
    "# 再代入可能\n",
    "print(list)\n",
    "list[0] = 5\n",
    "print(list)"
   ]
  },
  {
   "cell_type": "code",
   "execution_count": 24,
   "metadata": {
    "id": "dgNsDUSgqcfD",
    "colab_type": "code",
    "colab": {
     "base_uri": "https://localhost:8080/",
     "height": 71.0
    },
    "outputId": "0979c2f7-a07d-45c8-894c-6930f1034ff4"
   },
   "outputs": [
    {
     "name": "stdout",
     "output_type": "stream",
     "text": [
      "5\n",
      "3\n",
      "0\n"
     ]
    }
   ],
   "source": [
    "# imutable\n",
    "a: int = 5\n",
    "\n",
    "# 再代入できるからmutable(可変)というわけではなく\n",
    "print(a) # 5\n",
    "a = 3\n",
    "print(a) # 3\n",
    "\n",
    "# オブジェクトの属性値を変更できないからimutable(不可変)\n",
    "print(a.imag) # 虚数\n",
    "# a.imag = 8 # error"
   ]
  },
  {
   "cell_type": "markdown",
   "metadata": {
    "id": "01-nauLMlUnD",
    "colab_type": "text"
   },
   "source": [
    "### 動的型付けと静的型付け\n",
    "-  Pythonは動的型付け\n",
    "- アノテーションで型ヒントを付けることもできる\n",
    "- 静的型付けではなく、ヒント。コメントの拡張版みたいなもの\n",
    "- 静的型付け(実行前に型検査を行う)ではないので、速度も上がらない\n",
    "- 実行前にバグが見つけやすくなるだけ。\n",
    "- 注意: Python3.6以前では動かなくなることがある"
   ]
  },
  {
   "cell_type": "code",
   "execution_count": 0,
   "metadata": {
    "id": "7RnoDeoqlZHI",
    "colab_type": "code",
    "colab": {}
   },
   "outputs": [],
   "source": [
    "# アノテーションで型ヒントを付けることもできる\n",
    "age: int = 10\n",
    "\n",
    "# 変数アノテーションはTypeErrorを吐かない\n",
    "age = \"10\""
   ]
  },
  {
   "cell_type": "code",
   "execution_count": 26,
   "metadata": {
    "id": "27i50ZVkvkEm",
    "colab_type": "code",
    "colab": {
     "base_uri": "https://localhost:8080/",
     "height": 53.0
    },
    "outputId": "19b6912d-d9e8-4faf-c34f-38de366697e5"
   },
   "outputs": [
    {
     "name": "stdout",
     "output_type": "stream",
     "text": [
      "2\n",
      "helloworld\n"
     ]
    }
   ],
   "source": [
    "def sum_function(a: int, b: int) -> int:\n",
    "    return a+b\n",
    "\n",
    "\n",
    "print(sum_function(1, 1))\n",
    "# colabではTypeErrorを吐かないが、コンパイラによっては吐くものもある\n",
    "print(sum(\"hello\", \"world\"))"
   ]
  },
  {
   "cell_type": "markdown",
   "metadata": {
    "id": "0W-K9LQHRmCe",
    "colab_type": "text"
   },
   "source": [
    "### 四則演算"
   ]
  },
  {
   "cell_type": "code",
   "execution_count": 27,
   "metadata": {
    "id": "kYqixHTLQ6hr",
    "colab_type": "code",
    "colab": {
     "base_uri": "https://localhost:8080/",
     "height": 35.0
    },
    "outputId": "665fe682-f7b7-4303-8314-cbe319d96a6b"
   },
   "outputs": [
    {
     "name": "stdout",
     "output_type": "stream",
     "text": [
      "2\n"
     ]
    }
   ],
   "source": [
    "# 足し算\n",
    "print(1+1)"
   ]
  },
  {
   "cell_type": "code",
   "execution_count": 28,
   "metadata": {
    "id": "sNqOAnBxRJXK",
    "colab_type": "code",
    "colab": {
     "base_uri": "https://localhost:8080/",
     "height": 35.0
    },
    "outputId": "30d5706a-ab28-448f-9c04-bd6ef1a7e250"
   },
   "outputs": [
    {
     "name": "stdout",
     "output_type": "stream",
     "text": [
      "2\n"
     ]
    }
   ],
   "source": [
    "# 引き算\n",
    "print(3-1)"
   ]
  },
  {
   "cell_type": "code",
   "execution_count": 29,
   "metadata": {
    "id": "vIyUV3g_RLzu",
    "colab_type": "code",
    "colab": {
     "base_uri": "https://localhost:8080/",
     "height": 35.0
    },
    "outputId": "9d42cdc2-0cac-4e74-9a5b-486311d6f7bb"
   },
   "outputs": [
    {
     "name": "stdout",
     "output_type": "stream",
     "text": [
      "10\n"
     ]
    }
   ],
   "source": [
    "# 掛け算\n",
    "print(2*5)"
   ]
  },
  {
   "cell_type": "code",
   "execution_count": 30,
   "metadata": {
    "id": "x8BuLOPeROSv",
    "colab_type": "code",
    "colab": {
     "base_uri": "https://localhost:8080/",
     "height": 35.0
    },
    "outputId": "8d49bf44-b44c-4f57-f50c-8eee8f233fb6"
   },
   "outputs": [
    {
     "name": "stdout",
     "output_type": "stream",
     "text": [
      "5.0\n"
     ]
    }
   ],
   "source": [
    "# 割り算\n",
    "print(10/2)"
   ]
  },
  {
   "cell_type": "code",
   "execution_count": 31,
   "metadata": {
    "id": "vRkr7n8pRQzk",
    "colab_type": "code",
    "colab": {
     "base_uri": "https://localhost:8080/",
     "height": 35.0
    },
    "outputId": "d194a7d6-96ca-4deb-8716-3aca067956ca"
   },
   "outputs": [
    {
     "name": "stdout",
     "output_type": "stream",
     "text": [
      "16\n"
     ]
    }
   ],
   "source": [
    "# 2乗\n",
    "print(4**2)"
   ]
  },
  {
   "cell_type": "markdown",
   "metadata": {
    "id": "aDvuZ4Dcw5uz",
    "colab_type": "text"
   },
   "source": [
    "### ループ"
   ]
  },
  {
   "cell_type": "code",
   "execution_count": 32,
   "metadata": {
    "id": "a-piqRJWRWPY",
    "colab_type": "code",
    "colab": {
     "base_uri": "https://localhost:8080/",
     "height": 71.0
    },
    "outputId": "12fe974d-84e2-4980-dc70-a6bd7fb12960"
   },
   "outputs": [
    {
     "name": "stdout",
     "output_type": "stream",
     "text": [
      "1\n",
      "2\n",
      "3\n"
     ]
    }
   ],
   "source": [
    "for i in [1,2,3]:\n",
    "    print(i)\n",
    "    \n",
    "while False:\n",
    "    print(\"hello\") # 表示されない"
   ]
  },
  {
   "cell_type": "markdown",
   "metadata": {
    "id": "5EBLYBHnxRdb",
    "colab_type": "text"
   },
   "source": [
    "### 分岐\n",
    "\n",
    "switch-caseは無い"
   ]
  },
  {
   "cell_type": "code",
   "execution_count": 33,
   "metadata": {
    "id": "rPQgM59BxNbq",
    "colab_type": "code",
    "colab": {
     "base_uri": "https://localhost:8080/",
     "height": 35.0
    },
    "outputId": "9697cf50-0f8a-4959-9400-0d7d535ae0ad"
   },
   "outputs": [
    {
     "name": "stdout",
     "output_type": "stream",
     "text": [
      "1\n"
     ]
    }
   ],
   "source": [
    "if True:\n",
    "    print(1) # ここだけ表示\n",
    "elif False:\n",
    "    print(2)\n",
    "else:\n",
    "    print(3)"
   ]
  },
  {
   "cell_type": "markdown",
   "metadata": {
    "id": "RzumUwtFyqA9",
    "colab_type": "text"
   },
   "source": [
    "### 比較演算子\n",
    "\n",
    "https://note.nkmk.me/python-if-elif-else/"
   ]
  },
  {
   "cell_type": "code",
   "execution_count": 34,
   "metadata": {
    "id": "n63pfjrhyKZM",
    "colab_type": "code",
    "colab": {
     "base_uri": "https://localhost:8080/",
     "height": 143.0
    },
    "outputId": "ada5ccd8-beff-4192-ac2c-ba6e85099c82"
   },
   "outputs": [
    {
     "name": "stdout",
     "output_type": "stream",
     "text": [
      "True\n",
      "False\n",
      "True\n",
      "False\n",
      "True\n",
      "True\n",
      "True\n"
     ]
    }
   ],
   "source": [
    "print(True)  # True\n",
    "print(False)  # False\n",
    "\n",
    "print(True or False)  # True\n",
    "print(True and False)  # False\n",
    "print(not False)  # True\n",
    "\n",
    "print(1 < 2)  # True\n",
    "print(1 != 2)  # True\n"
   ]
  },
  {
   "cell_type": "markdown",
   "metadata": {
    "id": "Uw9V5r-3PK47",
    "colab_type": "text"
   },
   "source": [
    "### 関数\n",
    "\n",
    "一連の処理をまとめたもの"
   ]
  },
  {
   "cell_type": "code",
   "execution_count": 0,
   "metadata": {
    "id": "xv3UciAIPMF0",
    "colab_type": "code",
    "colab": {}
   },
   "outputs": [],
   "source": [
    "# 実装\n",
    "def greeting(name):\n",
    "    \"\"\" 挨拶をする関数\n",
    "    \n",
    "    Args:\n",
    "        name (str): 名前\n",
    "    \n",
    "    Returns:\n",
    "        None: 何も返さない\n",
    "    \"\"\"\n",
    "    print(\"Hello \" + name)"
   ]
  },
  {
   "cell_type": "code",
   "execution_count": 36,
   "metadata": {
    "id": "Wcu-2sSRSzPA",
    "colab_type": "code",
    "colab": {
     "base_uri": "https://localhost:8080/",
     "height": 35.0
    },
    "outputId": "401065f3-4c74-44bc-bf26-22f6023ac221"
   },
   "outputs": [
    {
     "name": "stdout",
     "output_type": "stream",
     "text": [
      "Hello World\n"
     ]
    }
   ],
   "source": [
    "# 呼び出し\n",
    "greeting(\"World\")"
   ]
  },
  {
   "cell_type": "markdown",
   "metadata": {
    "id": "DujLrAUBPMsg",
    "colab_type": "text"
   },
   "source": [
    "### クラス\n",
    "\n",
    "- 関数や変数をまとめて、ひな形(テンプレ)にしたもの\n",
    "\n",
    "- 独自のデータ型を定義するためのもの(<-> 組み込みのデータ型: int, str)"
   ]
  },
  {
   "cell_type": "code",
   "execution_count": 0,
   "metadata": {
    "id": "Mtvxsm0zPOoj",
    "colab_type": "code",
    "colab": {}
   },
   "outputs": [],
   "source": [
    "# 実装\n",
    "class Human:\n",
    "    \"\"\" 人間クラス\n",
    "    \n",
    "    このクラスには人間の名前と、挨拶の動作が定義する\n",
    "    \n",
    "    Note:\n",
    "      年齢を記憶するフィールドを持たない\n",
    "      \n",
    "    Attributes:\n",
    "      name (str): 名前\n",
    "      greeting_counter (int): 挨拶の回数\n",
    "    \"\"\"\n",
    "  \n",
    "    def __init__(self, name):\n",
    "        \"\"\" 初期化メソッド\n",
    "        \n",
    "        このメソッドでは、名前を初期化する\n",
    "        \n",
    "        Args:\n",
    "            name (str): 名前\n",
    "        \"\"\"\n",
    "        self.name = name\n",
    "        self.greeting_counter = 0\n",
    "    \n",
    "    def hello(self):\n",
    "        \"\"\" helloメソッド\n",
    "        \n",
    "        こんにちは、nameですと言い、greeting_counterを1足す\n",
    "        \"\"\"\n",
    "        print(\"こんにちは、\" + self.name + \"です\")\n",
    "        self.greeting_counter = self.greeting_counter + 1\n",
    "    \n",
    "    def goodbye(self):\n",
    "        \"\"\" goodbyeメソッド\n",
    "        \n",
    "        さようならと言い、greeting_counterを1足す\n",
    "        \"\"\"\n",
    "        print(\"さようなら\")\n",
    "        self.greeting_counter = self.greeting_counter + 1"
   ]
  },
  {
   "cell_type": "code",
   "execution_count": 38,
   "metadata": {
    "id": "z5oN_hPmTGs4",
    "colab_type": "code",
    "colab": {
     "base_uri": "https://localhost:8080/",
     "height": 71.0
    },
    "outputId": "1f9fe5c7-30ee-4e51-fe15-7d7b88cb696c"
   },
   "outputs": [
    {
     "name": "stdout",
     "output_type": "stream",
     "text": [
      "こんにちは、Davidです\n",
      "さようなら\n",
      "2\n"
     ]
    }
   ],
   "source": [
    "# 呼び出し\n",
    "m = Human(\"David\")\n",
    "\n",
    "m.hello()\n",
    "m.goodbye()\n",
    "\n",
    "print(m.greeting_counter)"
   ]
  }
 ],
 "metadata": {
  "colab": {
   "name": "MachineLearning_1.ipynb",
   "version": "0.3.2",
   "provenance": [],
   "collapsed_sections": [
    "BJuNF745QKy0",
    "eSnk7YZzQukT",
    "mx_355VFRE7U"
   ]
  },
  "kernelspec": {
   "name": "python3",
   "display_name": "Python 3"
  }
 },
 "nbformat": 4,
 "nbformat_minor": 0
}
